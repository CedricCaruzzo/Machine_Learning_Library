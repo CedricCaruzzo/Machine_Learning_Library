{
 "cells": [
  {
   "cell_type": "markdown",
   "id": "39b2d45d-bd3a-4c47-9608-1536d2078cfc",
   "metadata": {},
   "source": [
    "# Multi Layer Perceptron"
   ]
  },
  {
   "cell_type": "markdown",
   "id": "894c671a-34dd-40ed-a03f-b703e5b4542b",
   "metadata": {},
   "source": [
    "More infos can be found on [Edward Choi youtube](https://www.youtube.com/@mp2893/featured) channel\\\n",
    "KAIST AI504"
   ]
  },
  {
   "cell_type": "code",
   "execution_count": 1,
   "id": "524bf85f-39f3-44a9-bb01-8e1e0776b329",
   "metadata": {},
   "outputs": [],
   "source": [
    "import torch\n",
    "import torch.nn as nn\n",
    "import torch.nn.functional as F\n",
    "import torch.optim as optim\n",
    "\n",
    "from torch.utils.data import DataLoader\n",
    "\n",
    "import torchvision\n",
    "import torchvision.transforms as transforms"
   ]
  },
  {
   "cell_type": "code",
   "execution_count": 2,
   "id": "e1a9fd68-f755-46d6-838c-76f44a64c3bc",
   "metadata": {},
   "outputs": [],
   "source": [
    "# set gpu by number \n",
    "import os\n",
    "os.environ['CUDA_VISIBLE_DEVICES'] = '0'  # setting gpu number"
   ]
  },
  {
   "cell_type": "code",
   "execution_count": 3,
   "id": "1a641e32-8a32-4928-bb1c-cbd4e5801f5f",
   "metadata": {},
   "outputs": [
    {
     "name": "stdout",
     "output_type": "stream",
     "text": [
      "2.0.1+cu117\n"
     ]
    }
   ],
   "source": [
    "# print the version of PyTorch\n",
    "print(torch.__version__)"
   ]
  },
  {
   "cell_type": "markdown",
   "id": "2c9a61fb-d905-4dc8-a7b5-6922a4fe529a",
   "metadata": {},
   "source": [
    "## Load MNIST"
   ]
  },
  {
   "cell_type": "code",
   "execution_count": 4,
   "id": "71b61520-557f-4b35-8a1a-72422486c011",
   "metadata": {},
   "outputs": [],
   "source": [
    "# MNIST dataset \n",
    "train_dataset = torchvision.datasets.MNIST(root='../', train=True, transform=transforms.ToTensor(), download=False)\n",
    "test_dataset = torchvision.datasets.MNIST(root='../', train=False, transform=transforms.ToTensor())\n",
    "\n",
    "# Data loader\n",
    "# mini batch size\n",
    "train_loader = DataLoader(dataset=train_dataset, batch_size=128, shuffle=True)\n",
    "test_loader = DataLoader(dataset=test_dataset, batch_size=128, shuffle=False)"
   ]
  },
  {
   "cell_type": "markdown",
   "id": "8805a34a-3976-4d00-a63b-c851d3405bc4",
   "metadata": {},
   "source": [
    "## Model"
   ]
  },
  {
   "cell_type": "code",
   "execution_count": 5,
   "id": "0433eeba-89b3-4bcb-8adc-75ad155ebf54",
   "metadata": {},
   "outputs": [],
   "source": [
    "class NeuralNet(nn.Module):\n",
    "    def __init__(self, input_size, hidden_size, output_size):\n",
    "        super(NeuralNet, self).__init__()\n",
    "        self.fc1 = nn.Linear(input_size, hidden_size) \n",
    "        self.fc2 = nn.Linear(hidden_size, hidden_size)\n",
    "        self.fc3 = nn.Linear(hidden_size, output_size)\n",
    "        self.sigmoid = nn.Sigmoid()  # sigmoid activation function\n",
    "    \n",
    "    def forward(self, x):\n",
    "        out = self.fc1(x)\n",
    "        out = self.sigmoid(out)\n",
    "        out = self.fc2(out)\n",
    "        out = self.sigmoid(out)\n",
    "        out = self.fc3(out)\n",
    "        return out"
   ]
  },
  {
   "cell_type": "markdown",
   "id": "5b2514f9-1c42-4a36-bad1-1b59e24cedf5",
   "metadata": {},
   "source": [
    "## Training"
   ]
  },
  {
   "cell_type": "code",
   "execution_count": 6,
   "id": "bb2f0aba-330e-4780-b8e4-fce9bb62a1c1",
   "metadata": {},
   "outputs": [
    {
     "name": "stdout",
     "output_type": "stream",
     "text": [
      "Epoch [1/10], Step [100/469], Loss: 2.2533\n",
      "Epoch [1/10], Step [200/469], Loss: 1.6477\n",
      "Epoch [1/10], Step [300/469], Loss: 1.1149\n",
      "Epoch [1/10], Step [400/469], Loss: 0.8784\n",
      "Epoch [2/10], Step [100/469], Loss: 0.5147\n",
      "Epoch [2/10], Step [200/469], Loss: 0.4597\n",
      "Epoch [2/10], Step [300/469], Loss: 0.3768\n",
      "Epoch [2/10], Step [400/469], Loss: 0.4204\n",
      "Epoch [3/10], Step [100/469], Loss: 0.3063\n",
      "Epoch [3/10], Step [200/469], Loss: 0.2942\n",
      "Epoch [3/10], Step [300/469], Loss: 0.3494\n",
      "Epoch [3/10], Step [400/469], Loss: 0.3297\n",
      "Epoch [4/10], Step [100/469], Loss: 0.4042\n",
      "Epoch [4/10], Step [200/469], Loss: 0.2513\n",
      "Epoch [4/10], Step [300/469], Loss: 0.2769\n",
      "Epoch [4/10], Step [400/469], Loss: 0.3195\n",
      "Epoch [5/10], Step [100/469], Loss: 0.2981\n",
      "Epoch [5/10], Step [200/469], Loss: 0.1646\n",
      "Epoch [5/10], Step [300/469], Loss: 0.3827\n",
      "Epoch [5/10], Step [400/469], Loss: 0.2156\n",
      "Epoch [6/10], Step [100/469], Loss: 0.1741\n",
      "Epoch [6/10], Step [200/469], Loss: 0.1926\n",
      "Epoch [6/10], Step [300/469], Loss: 0.2600\n",
      "Epoch [6/10], Step [400/469], Loss: 0.2622\n",
      "Epoch [7/10], Step [100/469], Loss: 0.1500\n",
      "Epoch [7/10], Step [200/469], Loss: 0.1835\n",
      "Epoch [7/10], Step [300/469], Loss: 0.2979\n",
      "Epoch [7/10], Step [400/469], Loss: 0.0894\n",
      "Epoch [8/10], Step [100/469], Loss: 0.2081\n",
      "Epoch [8/10], Step [200/469], Loss: 0.3055\n",
      "Epoch [8/10], Step [300/469], Loss: 0.1797\n",
      "Epoch [8/10], Step [400/469], Loss: 0.1150\n",
      "Epoch [9/10], Step [100/469], Loss: 0.1190\n",
      "Epoch [9/10], Step [200/469], Loss: 0.0930\n",
      "Epoch [9/10], Step [300/469], Loss: 0.1340\n",
      "Epoch [9/10], Step [400/469], Loss: 0.1100\n",
      "Epoch [10/10], Step [100/469], Loss: 0.1433\n",
      "Epoch [10/10], Step [200/469], Loss: 0.0856\n",
      "Epoch [10/10], Step [300/469], Loss: 0.0947\n",
      "Epoch [10/10], Step [400/469], Loss: 0.1658\n"
     ]
    }
   ],
   "source": [
    "# Generate model\n",
    "model = NeuralNet(784, 20, 10)  # init(784, 20, 10)\n",
    "# input dim: 784  / hidden dim: 20  / output dim: 10\n",
    "\n",
    "# Upload model to GPU\n",
    "model = model.to('cuda')\n",
    "\n",
    "# Loss function define (we use cross-entropy)\n",
    "loss_fn = nn.CrossEntropyLoss()\n",
    "\n",
    "# Define optimizer\n",
    "# optimizer = torch.optim.SGD(model.parameters(), lr=0.05) \n",
    "optimizer = torch.optim.SGD(model.parameters(), lr=0.05, momentum=0.9)\n",
    "# optimizer = torch.optim.Adam(model.parameters(), lr=0.05)\n",
    "\n",
    "# Train the model\n",
    "total_step = len(train_loader)\n",
    "\n",
    "for epoch in range(10):\n",
    "    for i, (images, labels) in enumerate(train_loader):  # mini batch for loop\n",
    "        # upload to gpu\n",
    "        images = images.reshape(-1, 28*28).to('cuda')\n",
    "        labels = labels.to('cuda')\n",
    "        \n",
    "        # Forward\n",
    "        outputs = model(images)  # forwardI(images): get prediction\n",
    "        loss = loss_fn(outputs, labels)  # calculate the loss (cross entropy loss) with ground truth & prediction value\n",
    "        \n",
    "        # Backward and optimize\n",
    "        optimizer.zero_grad()\n",
    "        loss.backward()  # automatic gradient calculation (autograd)\n",
    "        optimizer.step()  # update model parameter with requires_grad=True \n",
    "        \n",
    "        if (i+1) % 100 == 0:\n",
    "            print ('Epoch [{}/{}], Step [{}/{}], Loss: {:.4f}' \n",
    "                   .format(epoch+1, 10, i+1, total_step, loss.item()))"
   ]
  },
  {
   "cell_type": "markdown",
   "id": "4a90cb61-4fde-48cd-b00a-b1141524f7be",
   "metadata": {},
   "source": [
    "## Testing"
   ]
  },
  {
   "cell_type": "code",
   "execution_count": 7,
   "id": "a67e13b5-13e6-48ba-92c0-f8a977deb8be",
   "metadata": {},
   "outputs": [
    {
     "name": "stdout",
     "output_type": "stream",
     "text": [
      "Accuracy of the network on the 10000 test images: 95.25 %\n"
     ]
    }
   ],
   "source": [
    "# Test the model\n",
    "# In test phase, we don't need to compute gradients (for memory efficiency)\n",
    "with torch.no_grad():\n",
    "    correct = 0\n",
    "    total = 0\n",
    "    for images, labels in test_loader:\n",
    "        images = images.reshape(-1, 28*28).to('cuda')\n",
    "        labels = labels.to('cuda')\n",
    "        outputs = model(images)\n",
    "        _, predicted = torch.max(outputs.data, 1)  # classification -> get the label prediction of top 1 \n",
    "        total += labels.size(0)\n",
    "        correct += (predicted == labels).sum().item()\n",
    "\n",
    "    print('Accuracy of the network on the 10000 test images: {} %'.format(100 * correct / total))"
   ]
  }
 ],
 "metadata": {
  "kernelspec": {
   "display_name": "Python 3 (ipykernel)",
   "language": "python",
   "name": "python3"
  },
  "language_info": {
   "codemirror_mode": {
    "name": "ipython",
    "version": 3
   },
   "file_extension": ".py",
   "mimetype": "text/x-python",
   "name": "python",
   "nbconvert_exporter": "python",
   "pygments_lexer": "ipython3",
   "version": "3.8.18"
  }
 },
 "nbformat": 4,
 "nbformat_minor": 5
}
