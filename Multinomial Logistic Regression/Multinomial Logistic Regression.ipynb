{
 "cells": [
  {
   "cell_type": "markdown",
   "id": "1e9553ff-b727-4379-ade1-ad45796ba9a8",
   "metadata": {},
   "source": [
    "# Multinomial Logistic Regression"
   ]
  },
  {
   "cell_type": "markdown",
   "id": "f100526b-875d-4b75-942a-8b84af3fa879",
   "metadata": {},
   "source": [
    "More infos can be found on [Edward Choi youtube](https://www.youtube.com/@mp2893/featured) channel\\\n",
    "KAIST AI504"
   ]
  },
  {
   "cell_type": "markdown",
   "id": "58dcba46-514e-4292-8cd2-146f396f7151",
   "metadata": {},
   "source": [
    "## Load packages"
   ]
  },
  {
   "cell_type": "code",
   "execution_count": 1,
   "id": "f0f033c7-8292-4852-9feb-702dcd118635",
   "metadata": {},
   "outputs": [],
   "source": [
    "import torch\n",
    "import torch.nn as nn\n",
    "import torch.nn.functional as F\n",
    "import torch.optim as optim\n",
    "\n",
    "from torch.utils.data import DataLoader\n",
    "\n",
    "import torchvision\n",
    "import torchvision.transforms as transforms"
   ]
  },
  {
   "cell_type": "code",
   "execution_count": 2,
   "id": "7d06bfb9-7e53-4045-83b5-a7f3f6344f70",
   "metadata": {},
   "outputs": [],
   "source": [
    "# set gpu by number \n",
    "import os\n",
    "os.environ['CUDA_VISIBLE_DEVICES'] = '0'  # setting gpu number"
   ]
  },
  {
   "cell_type": "code",
   "execution_count": 3,
   "id": "f1fd2f12-dfb8-47f1-bd4c-f57affcaaa2f",
   "metadata": {},
   "outputs": [
    {
     "name": "stdout",
     "output_type": "stream",
     "text": [
      "2.0.1+cu117\n"
     ]
    }
   ],
   "source": [
    "# print the version of PyTorch\n",
    "print(torch.__version__)"
   ]
  },
  {
   "cell_type": "markdown",
   "id": "17ce1af1-b731-480b-a323-bef218cfbcf0",
   "metadata": {},
   "source": [
    "![Image Alt Text](img/MLPScheme.png)"
   ]
  },
  {
   "cell_type": "markdown",
   "id": "6ff64178-d54e-4597-b420-dfa5e2f672ea",
   "metadata": {},
   "source": [
    "## Multinomial Logistic Regression"
   ]
  },
  {
   "cell_type": "markdown",
   "id": "fd265549-d079-4e7e-8c0c-ac9ba01f6520",
   "metadata": {},
   "source": [
    "The MNIST database of **handwritten digits from 0 to 9**, has a training set of 60,000 examples, and a test set of 10,000 examples.\\\n",
    "Since we have 10 classes (0~9), current problem can be interpreted as **multinomial logistic regression (multi-class classification)**.\\\n",
    "Therefore, we use **softmax** function to handle multiple class output with **cross-entropy** loss function."
   ]
  },
  {
   "cell_type": "markdown",
   "id": "e54691e5-91c6-42a6-b176-4c52f91dd48b",
   "metadata": {},
   "source": [
    "![Image Alt Text](img/multinominalLogisticRegression.png)"
   ]
  },
  {
   "cell_type": "markdown",
   "id": "6e28ee8e-e8ef-48e7-a05a-fad0d2860a26",
   "metadata": {},
   "source": [
    "## Loading MNIST"
   ]
  },
  {
   "cell_type": "code",
   "execution_count": 4,
   "id": "bc13a88b-eb34-4ab7-be82-d1de8be2d90f",
   "metadata": {},
   "outputs": [],
   "source": [
    "# MNIST dataset \n",
    "train_dataset = torchvision.datasets.MNIST(root='../', train=True, transform=transforms.ToTensor(), download=True)\n",
    "test_dataset = torchvision.datasets.MNIST(root='../', train=False, transform=transforms.ToTensor())\n",
    "\n",
    "# Data loader\n",
    "# mini batch size\n",
    "train_loader = DataLoader(dataset=train_dataset, batch_size=128, shuffle=True)\n",
    "test_loader = DataLoader(dataset=test_dataset, batch_size=128, shuffle=False)"
   ]
  },
  {
   "cell_type": "markdown",
   "id": "83f1b383-43a7-451e-9e53-99e12b655ea2",
   "metadata": {},
   "source": [
    "## Model"
   ]
  },
  {
   "cell_type": "code",
   "execution_count": 5,
   "id": "9732ff92-f307-4589-ae40-f227fd598532",
   "metadata": {},
   "outputs": [],
   "source": [
    "# Define model class\n",
    "# This model has one hidden layer\n",
    "class Multinomial_logistic_regression(nn.Module):\n",
    "    def __init__(self, input_size, output_size):\n",
    "        super(Multinomial_logistic_regression, self).__init__()\n",
    "        self.fc = nn.Linear(input_size, output_size) \n",
    "        \n",
    "    def forward(self, x):\n",
    "        out = self.fc(x)\n",
    "        return out"
   ]
  },
  {
   "cell_type": "code",
   "execution_count": 6,
   "id": "3d945f26-1363-4449-8638-d23fda28c9d5",
   "metadata": {},
   "outputs": [],
   "source": [
    "# Generate model\n",
    "model = Multinomial_logistic_regression(784, 10)  # init(784, 10)\n",
    "# input dim: 784  / output dim: 10"
   ]
  },
  {
   "cell_type": "code",
   "execution_count": 7,
   "id": "075f3522-5136-4c2a-b7c6-b472afbf6047",
   "metadata": {},
   "outputs": [
    {
     "data": {
      "text/plain": [
       "Multinomial_logistic_regression(\n",
       "  (fc): Linear(in_features=784, out_features=10, bias=True)\n",
       ")"
      ]
     },
     "execution_count": 7,
     "metadata": {},
     "output_type": "execute_result"
    }
   ],
   "source": [
    "model"
   ]
  },
  {
   "cell_type": "code",
   "execution_count": 8,
   "id": "4e70db17-86dc-4eb6-87e7-654f8f8211bc",
   "metadata": {},
   "outputs": [],
   "source": [
    "# Upload model to GPU\n",
    "model = model.to('cuda')"
   ]
  },
  {
   "cell_type": "code",
   "execution_count": 9,
   "id": "9aa2756e-3bf7-4b83-b3e9-456c2b1b996f",
   "metadata": {},
   "outputs": [],
   "source": [
    "# Optimizer define\n",
    "# optimizer = torch.optim.SGD(model.parameters(), lr=0.05) \n",
    "optimizer = torch.optim.SGD(model.parameters(), lr=0.05, momentum=0.9)\n",
    "# toptimizer = orch.optim.Adam(model.parameters(), lr=0.05)"
   ]
  },
  {
   "cell_type": "markdown",
   "id": "85f4e23e-49c0-4048-b53a-ca40e1b970d2",
   "metadata": {},
   "source": [
    "## Training"
   ]
  },
  {
   "cell_type": "code",
   "execution_count": 10,
   "id": "ce564003-a45e-4752-bae7-8067855554f0",
   "metadata": {},
   "outputs": [
    {
     "name": "stdout",
     "output_type": "stream",
     "text": [
      "Epoch [1/10], Step [100/469], Loss: 0.4186\n",
      "Epoch [1/10], Step [200/469], Loss: 0.3590\n",
      "Epoch [1/10], Step [300/469], Loss: 0.4131\n",
      "Epoch [1/10], Step [400/469], Loss: 0.4002\n",
      "Epoch [2/10], Step [100/469], Loss: 0.3498\n",
      "Epoch [2/10], Step [200/469], Loss: 0.4046\n",
      "Epoch [2/10], Step [300/469], Loss: 0.2372\n",
      "Epoch [2/10], Step [400/469], Loss: 0.4787\n",
      "Epoch [3/10], Step [100/469], Loss: 0.2980\n",
      "Epoch [3/10], Step [200/469], Loss: 0.1731\n",
      "Epoch [3/10], Step [300/469], Loss: 0.4050\n",
      "Epoch [3/10], Step [400/469], Loss: 0.3320\n",
      "Epoch [4/10], Step [100/469], Loss: 0.2626\n",
      "Epoch [4/10], Step [200/469], Loss: 0.1943\n",
      "Epoch [4/10], Step [300/469], Loss: 0.2374\n",
      "Epoch [4/10], Step [400/469], Loss: 0.4377\n",
      "Epoch [5/10], Step [100/469], Loss: 0.3977\n",
      "Epoch [5/10], Step [200/469], Loss: 0.2471\n",
      "Epoch [5/10], Step [300/469], Loss: 0.2397\n",
      "Epoch [5/10], Step [400/469], Loss: 0.3813\n",
      "Epoch [6/10], Step [100/469], Loss: 0.2690\n",
      "Epoch [6/10], Step [200/469], Loss: 0.2501\n",
      "Epoch [6/10], Step [300/469], Loss: 0.2219\n",
      "Epoch [6/10], Step [400/469], Loss: 0.4010\n",
      "Epoch [7/10], Step [100/469], Loss: 0.2297\n",
      "Epoch [7/10], Step [200/469], Loss: 0.2948\n",
      "Epoch [7/10], Step [300/469], Loss: 0.1879\n",
      "Epoch [7/10], Step [400/469], Loss: 0.2330\n",
      "Epoch [8/10], Step [100/469], Loss: 0.1941\n",
      "Epoch [8/10], Step [200/469], Loss: 0.1519\n",
      "Epoch [8/10], Step [300/469], Loss: 0.3349\n",
      "Epoch [8/10], Step [400/469], Loss: 0.2417\n",
      "Epoch [9/10], Step [100/469], Loss: 0.2141\n",
      "Epoch [9/10], Step [200/469], Loss: 0.3986\n",
      "Epoch [9/10], Step [300/469], Loss: 0.3448\n",
      "Epoch [9/10], Step [400/469], Loss: 0.1973\n",
      "Epoch [10/10], Step [100/469], Loss: 0.2908\n",
      "Epoch [10/10], Step [200/469], Loss: 0.2511\n",
      "Epoch [10/10], Step [300/469], Loss: 0.2411\n",
      "Epoch [10/10], Step [400/469], Loss: 0.2740\n"
     ]
    }
   ],
   "source": [
    "# Loss function define (we use cross-entropy)\n",
    "loss_fn = nn.CrossEntropyLoss()\n",
    "\n",
    "#Train the model\n",
    "total_step = len(train_loader)\n",
    "\n",
    "for epoch in range(10):\n",
    "    for i, (images, labels) in enumerate(train_loader):  # mini batch for loop\n",
    "        # upload to gpu\n",
    "        images = images.reshape(-1, 28*28).to('cuda')\n",
    "        labels = labels.to('cuda')\n",
    "        \n",
    "        # Forward\n",
    "        outputs = model(images)  # forwardI(images): get prediction\n",
    "        loss = loss_fn(outputs, labels)  # calculate the loss (cross entropy loss) with ground truth & prediction value\n",
    "        \n",
    "        # Backward and optimize\n",
    "        optimizer.zero_grad()\n",
    "        loss.backward()  # automatic gradient calculation (autograd)\n",
    "        optimizer.step()  # update model parameter with requires_grad=True \n",
    "        \n",
    "        if (i+1) % 100 == 0:\n",
    "            print ('Epoch [{}/{}], Step [{}/{}], Loss: {:.4f}' \n",
    "                   .format(epoch+1, 10, i+1, total_step, loss.item()))"
   ]
  },
  {
   "cell_type": "markdown",
   "id": "8275b905-5be1-46a2-a4e6-28a6723ae61a",
   "metadata": {},
   "source": [
    "## Testing"
   ]
  },
  {
   "cell_type": "code",
   "execution_count": 11,
   "id": "d75c2c2f-d530-41cc-9143-4b79a5d4f088",
   "metadata": {},
   "outputs": [
    {
     "name": "stdout",
     "output_type": "stream",
     "text": [
      "Accuracy of the network on the 10000 test images: 92.55 %\n"
     ]
    }
   ],
   "source": [
    "# Test the model\n",
    "# In test phase, we don't need to compute gradients (for memory efficiency)\n",
    "with torch.no_grad():\n",
    "    correct = 0\n",
    "    total = 0\n",
    "    for images, labels in test_loader:\n",
    "        images = images.reshape(-1, 28*28).to('cuda')\n",
    "        labels = labels.to('cuda')\n",
    "        outputs = model(images)\n",
    "        _, predicted = torch.max(outputs.data, 1)  # classification -> get the label prediction of top 1 \n",
    "        total += labels.size(0)\n",
    "        correct += (predicted == labels).sum().item()\n",
    "\n",
    "    print('Accuracy of the network on the 10000 test images: {} %'.format(100 * correct / total))"
   ]
  }
 ],
 "metadata": {
  "kernelspec": {
   "display_name": "Python 3 (ipykernel)",
   "language": "python",
   "name": "python3"
  },
  "language_info": {
   "codemirror_mode": {
    "name": "ipython",
    "version": 3
   },
   "file_extension": ".py",
   "mimetype": "text/x-python",
   "name": "python",
   "nbconvert_exporter": "python",
   "pygments_lexer": "ipython3",
   "version": "3.8.18"
  }
 },
 "nbformat": 4,
 "nbformat_minor": 5
}
